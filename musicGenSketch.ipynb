{
 "cells": [
  {
   "cell_type": "code",
   "execution_count": 193,
   "metadata": {
    "execution": {
     "iopub.execute_input": "2021-11-03T01:24:49.202713Z",
     "iopub.status.busy": "2021-11-03T01:24:49.202081Z",
     "iopub.status.idle": "2021-11-03T01:24:51.815133Z",
     "shell.execute_reply": "2021-11-03T01:24:51.815517Z"
    },
    "id": "GsLFq7nsiqcq"
   },
   "outputs": [],
   "source": [
    "# Deze branch gaat niet toegankelijk gemaakt worden voor Oorschot! Better remove it,\n",
    "# maybe plagiaat-check sees this one!!!\n",
    "\n",
    "# Uitleggen wrm we afkortingen gebruiken. En wrm we code zo structureren?\n",
    "# ALLES NEDERLANDS\n",
    "# Hoe meer in verslag, hoe minder % plagiaat\n",
    "# Uitleg windows, batches (tensors in tf?), flattening, mapping, normalization.\n",
    "\n",
    "# Verander namen van alle variabelen.\n",
    "# Versimpel code naar ons niveau.\n",
    "# Limit informational blogs.\n",
    "# Andere databases gebruiken\n",
    "# Deliver our projects NOT in notebooks for convincing? But if we use -> Explain!\n",
    "# Change use of functions! -> more and different function use -> won't be checked by plagiaat-check\n",
    "# Could fuck up the plagiaat algorithm with random comments and characters?\n",
    "# Get rid of the function annotations\n",
    "# Follow informatica codeer-regels\n",
    "# Check informatica beoordeling formulier\n",
    "# Variable name design with capital letters not underscores\n",
    "# Bronvermelding\n",
    "# Consider using only Numpy instead of Pandas\n",
    "# Explain why we use RNN\n",
    "# Verander Maestro naar Bach\n",
    "\n",
    "# Change order. Delete redundant. Replace some maybe? Explain every module.\n",
    "\n",
    "import numpy as np\n",
    "import tensorflow as tf\n",
    "import pretty_midi\n",
    "import pathlib\n",
    "import glob"
   ]
  },
  {
   "cell_type": "code",
   "execution_count": 194,
   "metadata": {
    "execution": {
     "iopub.execute_input": "2021-11-03T01:24:51.820502Z",
     "iopub.status.busy": "2021-11-03T01:24:51.819644Z",
     "iopub.status.idle": "2021-11-03T01:24:51.821646Z",
     "shell.execute_reply": "2021-11-03T01:24:51.821984Z"
    },
    "id": "Efja_OtJNzAM"
   },
   "outputs": [],
   "source": [
    "# Review later\n",
    "\n",
    "seed = 42\n",
    "tf.random.set_seed(seed)\n",
    "np.random.seed(seed)"
   ]
  },
  {
   "cell_type": "code",
   "execution_count": 195,
   "metadata": {},
   "outputs": [],
   "source": [
    "# Directory van onze dataset.\n",
    "directory = pathlib.Path('data/maestro-v2.0.0')"
   ]
  },
  {
   "cell_type": "code",
   "execution_count": 196,
   "metadata": {},
   "outputs": [],
   "source": [
    "# Bestanden binnen onze dataset.\n",
    "bestanden = []\n",
    "for i in glob.glob('data/maestro-v2.0.0/*/*[.mid]*'):\n",
    "    bestanden.append(i)\n",
    "\n",
    "bestanden = glob.glob(str(directory/'**/*.midi*'))\n"
   ]
  },
  {
   "cell_type": "code",
   "execution_count": 197,
   "metadata": {},
   "outputs": [],
   "source": [
    "class notenClass:\n",
    "    def __init__(self, toonHoogte, beginTijd, eindTijd, nootInterval, nootTijd):\n",
    "        self.toonHoogte = toonHoogte\n",
    "        self.beginTijd = beginTijd\n",
    "        self.eindTijd = eindTijd\n",
    "        self.nootInterval = nootInterval\n",
    "        self.nootTijd = nootTijd\n",
    "\n",
    "# Zet MIDI bestand om in een array van noten met hun bijhorende eigenschappen (bijvoorbeeld: toonhoogte).\n",
    "def midiNaarNoten(bestand):\n",
    "    noten = notenClass([], [], [], [], [])\n",
    "    piano = pretty_midi.PrettyMIDI(bestand).instruments[0]\n",
    "\n",
    "    # Rangschik alle gespeelde noten door de piano op chronologische volgorde.\n",
    "    notenGerangschikt = sorted(piano.notes, key = (lambda noot : noot.start))\n",
    "\n",
    "    # Orden alle noten met haar eigenschappen in de noten class.\n",
    "    beginVorigeNoot = notenGerangschikt[0].start\n",
    "    for noot in notenGerangschikt:\n",
    "      noten.toonHoogte.append(noot.pitch)\n",
    "      noten.beginTijd.append(noot.start)\n",
    "      noten.eindTijd.append(noot.end)\n",
    "      noten.nootInterval.append(noot.start - beginVorigeNoot)\n",
    "      noten.nootTijd.append(noot.end - noot.start)\n",
    "      beginVorigeNoot = noot.start\n",
    "    \n",
    "    # Creeër een array \n",
    "    notenArray = np.stack((noten.toonHoogte, noten.beginTijd, noten.eindTijd, noten.nootInterval, noten.nootTijd), axis = 1)\n",
    "  \n",
    "    return notenArray\n",
    "\n",
    "x = midiNaarNoten(bestanden[0])\n",
    "\n",
    "maxToonHoogte = 128"
   ]
  },
  {
   "cell_type": "code",
   "execution_count": 198,
   "metadata": {},
   "outputs": [],
   "source": [
    "# Zet een array van noten met haar bijhorende eigenschappen om in een MIDI bestand.\n",
    "def notenNaarMidi(noten, exportBestand, instrumentNaam = 'Acoustic Grand Piano', geluidsterkte = 100):\n",
    "    bestand = pretty_midi.PrettyMIDI()\n",
    "    instrument = pretty_midi.Instrument(program=pretty_midi.instrument_name_to_program(instrumentNaam))\n",
    "\n",
    "    # Zet de array van noten om in Pretty_MIDI noten en voeg deze toe aan het gegeven instrument.\n",
    "    startVorigeNoot = 0\n",
    "    for noot in noten:\n",
    "        nootInterval = noot[3]\n",
    "        nootTijd = noot[4]\n",
    "        beginTijd = float(startVorigeNoot + nootInterval)\n",
    "        eindTijd = float(beginTijd + nootTijd)\n",
    "        noot = pretty_midi.Note(velocity = geluidsterkte, pitch = int(noot[0]), start = beginTijd, end = eindTijd)\n",
    "        instrument.notes.append(noot)\n",
    "        startVorigeNoot = beginTijd\n",
    "\n",
    "    bestand.instruments.append(instrument)\n",
    "\n",
    "    # Exporteer de Pretty_MIDI object naar een .midi/.mid bestand in de directory van dit programma.\n",
    "    bestand.write(exportBestand)\n",
    "    return bestand\n",
    "\n",
    "file = 'output.mid'\n",
    "y = notenNaarMidi(x, file)\n"
   ]
  },
  {
   "cell_type": "code",
   "execution_count": 199,
   "metadata": {},
   "outputs": [],
   "source": [
    "aantalBestanden = 5\n",
    "alleNoten = []\n",
    "\n",
    "# Orden alle noten met haar eigenschappen van het gebruikte aantal muziekstukken in een array.\n",
    "for bestand in bestanden[:aantalBestanden]:\n",
    "    noten = midiNaarNoten(bestand)\n",
    "    alleNoten.append(noten)\n",
    "\n",
    "notenArray = np.concatenate(alleNoten)\n",
    "nAlleNoten = len(notenArray)"
   ]
  },
  {
   "cell_type": "code",
   "execution_count": 200,
   "metadata": {},
   "outputs": [],
   "source": [
    "# Verwijder de begin- en eindtijden voor alle noten.\n",
    "trainingsNoten = np.delete(notenArray, [1, 2], 1)\n",
    "\n",
    "# Zet de array van trainingsnoten om in een dataset voor Tensorflow.\n",
    "notenDataset = tf.data.Dataset.from_tensor_slices(trainingsNoten)"
   ]
  },
  {
   "cell_type": "code",
   "execution_count": 201,
   "metadata": {},
   "outputs": [],
   "source": [
    "# Normalizeer de toonhoogte van een noot.\n",
    "def normalizeerToonHoogte(notenArray):\n",
    "    notenArray = notenArray/[maxToonHoogte, 1.0, 1.0]\n",
    "    return notenArray"
   ]
  },
  {
   "cell_type": "code",
   "execution_count": 202,
   "metadata": {},
   "outputs": [],
   "source": [
    "# Deelt dataset op in batches met labels en genormalizeerde inputs.\n",
    "def verwerkDataset(dataset, batchInputGrootte):\n",
    "    batchInputGrootte += 1\n",
    "\n",
    "    # Maak een nieuwe dataset die windows bevat van de dataset uit de input.\n",
    "    windows = dataset.window(batchInputGrootte, shift=1, drop_remainder=True)\n",
    "\n",
    "    # Zet de windows om in batches en 'flatten' deze batches tot een nieuwe dataset.\n",
    "    flatten = lambda x: x.batch(batchInputGrootte, drop_remainder=True)\n",
    "    flattenedDataset = windows.flat_map(flatten)\n",
    "\n",
    "    # Deel batch op in inputs en een bijbehorend label. En normalizeer de inputs. \n",
    "    def deelNormalizeerBatches(notenArray):\n",
    "        inputs = notenArray[:-1]\n",
    "        labels = notenArray[-1]\n",
    "        labelsDictionary = {}\n",
    "        labelsDictionary.update({'toonHoogte': labels[0]})\n",
    "        labelsDictionary.update({'nootInterval': labels[1]})\n",
    "        labelsDictionary.update({'nootTijd': labels[2]})\n",
    "\n",
    "        return normalizeerToonHoogte(inputs), labelsDictionary\n",
    "\n",
    "    # Pas bovenstaande functie toe tot elke batch in de dataset.\n",
    "    # 2e argument in Dataset.map(), laat deze bovenstaande functie parallel toegepast worden door CPU.\n",
    "    notenDataset = flattenedDataset.map(deelNormalizeerBatches, num_parallel_calls=tf.data.AUTOTUNE)\n",
    "\n",
    "    return notenDataset"
   ]
  },
  {
   "cell_type": "code",
   "execution_count": 203,
   "metadata": {},
   "outputs": [
    {
     "data": {
      "text/plain": [
       "(TensorSpec(shape=(25, 3), dtype=tf.float64, name=None),\n",
       " {'toonHoogte': TensorSpec(shape=(), dtype=tf.float64, name=None),\n",
       "  'nootInterval': TensorSpec(shape=(), dtype=tf.float64, name=None),\n",
       "  'nootTijd': TensorSpec(shape=(), dtype=tf.float64, name=None)})"
      ]
     },
     "execution_count": 203,
     "metadata": {},
     "output_type": "execute_result"
    }
   ],
   "source": [
    "batchInputGrootte = 25\n",
    "\n",
    "verwerkteDataset = verwerkDataset(notenDataset, batchInputGrootte)"
   ]
  },
  {
   "cell_type": "code",
   "execution_count": 204,
   "metadata": {},
   "outputs": [
    {
     "data": {
      "text/plain": [
       "(TensorSpec(shape=(64, 25, 3), dtype=tf.float64, name=None),\n",
       " {'toonHoogte': TensorSpec(shape=(64,), dtype=tf.float64, name=None),\n",
       "  'nootInterval': TensorSpec(shape=(64,), dtype=tf.float64, name=None),\n",
       "  'nootTijd': TensorSpec(shape=(64,), dtype=tf.float64, name=None)})"
      ]
     },
     "execution_count": 204,
     "metadata": {},
     "output_type": "execute_result"
    }
   ],
   "source": [
    "batchGrootte = 64\n",
    "bufferGrootte = nAlleNoten - batchInputGrootte\n",
    "trainingDataset = verwerkteDataset.shuffle(bufferGrootte).batch(batchGrootte, drop_remainder=True).cache().prefetch(tf.data.experimental.AUTOTUNE)\n",
    "trainingDataset.element_spec"
   ]
  },
  {
   "cell_type": "code",
   "execution_count": 225,
   "metadata": {},
   "outputs": [],
   "source": [
    "# Dit is de loss-function. De meanSquaredError is een veelgebruikte loss-function binnen Deep Learning.\n",
    "# Bij een grote verschil tussen de waarde en de verwachte waarde, wordt de 'fout' groot.\n",
    "# Een klein verschil resulteert tot een kleine 'fout'.\n",
    "def lossFunction(waarde, verwachteWaarde):\n",
    "  meanSquaredError = (waarde - verwachteWaarde) ** 2\n",
    "\n",
    "  # Maakt de waarde positief.\n",
    "  positieveWaarde = tf.maximum(-verwachteWaarde, 0.0) * 10\n",
    "\n",
    "  return tf.reduce_mean(meanSquaredError + positieveWaarde)"
   ]
  },
  {
   "cell_type": "code",
   "execution_count": 206,
   "metadata": {},
   "outputs": [
    {
     "name": "stdout",
     "output_type": "stream",
     "text": [
      "Model: \"model\"\n",
      "__________________________________________________________________________________________________\n",
      " Layer (type)                   Output Shape         Param #     Connected to                     \n",
      "==================================================================================================\n",
      " input_1 (InputLayer)           [(None, 25, 3)]      0           []                               \n",
      "                                                                                                  \n",
      " lstm (LSTM)                    (None, 128)          67584       ['input_1[0][0]']                \n",
      "                                                                                                  \n",
      " nootInterval (Dense)           (None, 1)            129         ['lstm[0][0]']                   \n",
      "                                                                                                  \n",
      " nootTijd (Dense)               (None, 1)            129         ['lstm[0][0]']                   \n",
      "                                                                                                  \n",
      " toonHoogte (Dense)             (None, 128)          16512       ['lstm[0][0]']                   \n",
      "                                                                                                  \n",
      "==================================================================================================\n",
      "Total params: 84,354\n",
      "Trainable params: 84,354\n",
      "Non-trainable params: 0\n",
      "__________________________________________________________________________________________________\n"
     ]
    }
   ],
   "source": [
    "input_shape = (batchInputGrootte, 3)\n",
    "learning_rate = 0.005\n",
    "\n",
    "inputs = tf.keras.Input(input_shape)\n",
    "x = tf.keras.layers.LSTM(128)(inputs)\n",
    "\n",
    "outputs = {\n",
    "              'toonHoogte': tf.keras.layers.Dense(128, name = 'toonHoogte')(x),\n",
    "              'nootInterval': tf.keras.layers.Dense(1, name = 'nootInterval')(x),\n",
    "              'nootTijd': tf.keras.layers.Dense(1, name = 'nootTijd')(x),\n",
    "          }\n",
    "\n",
    "model = tf.keras.Model(inputs, outputs)\n",
    "\n",
    "loss = {\n",
    "            'toonHoogte': tf.keras.losses.SparseCategoricalCrossentropy(\n",
    "                from_logits = True),\n",
    "            'nootInterval': lossFunction,\n",
    "            'nootTijd': lossFunction,\n",
    "        }\n",
    "\n",
    "optimizer = tf.keras.optimizers.Adam(learning_rate = learning_rate)\n",
    "\n",
    "model.compile(loss = loss, optimizer = optimizer)\n",
    "\n",
    "model.summary()"
   ]
  },
  {
   "cell_type": "code",
   "execution_count": 224,
   "metadata": {},
   "outputs": [
    {
     "name": "stdout",
     "output_type": "stream",
     "text": [
      "913/913 [==============================] - 21s 23ms/step - loss: 0.4003 - nootInterval_loss: 0.0959 - nootTijd_loss: 0.1110 - toonHoogte_loss: 3.8687\n"
     ]
    },
    {
     "data": {
      "text/plain": [
       "{'loss': 0.4002830386161804,\n",
       " 'nootInterval_loss': 0.0958734005689621,\n",
       " 'nootTijd_loss': 0.11097530275583267,\n",
       " 'toonHoogte_loss': 3.8686912059783936}"
      ]
     },
     "execution_count": 224,
     "metadata": {},
     "output_type": "execute_result"
    }
   ],
   "source": [
    "model.evaluate(trainingDataset, return_dict = True)"
   ]
  },
  {
   "cell_type": "code",
   "execution_count": 220,
   "metadata": {},
   "outputs": [],
   "source": [
    "model.compile(loss = loss, loss_weights={'toonHoogte': 0.05, 'nootInterval': 1.0, 'nootTijd': 1.0}, optimizer =  optimizer)"
   ]
  },
  {
   "cell_type": "code",
   "execution_count": 221,
   "metadata": {},
   "outputs": [
    {
     "name": "stdout",
     "output_type": "stream",
     "text": [
      "913/913 [==============================] - 17s 17ms/step - loss: 0.4003 - nootInterval_loss: 0.0959 - nootTijd_loss: 0.1110 - toonHoogte_loss: 3.8687\n"
     ]
    },
    {
     "data": {
      "text/plain": [
       "{'loss': 0.4002830386161804,\n",
       " 'nootInterval_loss': 0.0958734005689621,\n",
       " 'nootTijd_loss': 0.11097530275583267,\n",
       " 'toonHoogte_loss': 3.8686912059783936}"
      ]
     },
     "execution_count": 221,
     "metadata": {},
     "output_type": "execute_result"
    }
   ],
   "source": [
    "model.evaluate(trainingDataset, return_dict = True)"
   ]
  },
  {
   "cell_type": "code",
   "execution_count": 210,
   "metadata": {},
   "outputs": [],
   "source": [
    "callbacks = [\n",
    "                tf.keras.callbacks.ModelCheckpoint(filepath = './training_checkpoints/ckpt_{epoch}', save_weights_only = True),\n",
    "                tf.keras.callbacks.EarlyStopping(monitor = 'loss', patience = 5, verbose = 1, restore_best_weights = True)\n",
    "            ]"
   ]
  },
  {
   "cell_type": "code",
   "execution_count": 212,
   "metadata": {},
   "outputs": [
    {
     "name": "stdout",
     "output_type": "stream",
     "text": [
      "913/913 [==============================] - 43s 47ms/step - loss: 0.4039 - nootInterval_loss: 0.0972 - nootTijd_loss: 0.1109 - toonHoogte_loss: 3.9142\n",
      "CPU times: user 1min 10s, sys: 4.71 s, total: 1min 14s\n",
      "Wall time: 42.7 s\n"
     ]
    }
   ],
   "source": [
    "epochs = 1\n",
    "history = model.fit(trainingDataset, epochs = epochs, callbacks = callbacks)"
   ]
  },
  {
   "cell_type": "code",
   "execution_count": 213,
   "metadata": {},
   "outputs": [],
   "source": [
    "def maakNieuweNoot(noten, keras_model, temperature = 1.0):\n",
    "    inputNoten = tf.expand_dims(noten, 0)\n",
    "    gemaakteNoten = model.predict(inputNoten)\n",
    "    preToonHoogte = gemaakteNoten['toonHoogte']\n",
    "    nootInterval = gemaakteNoten['nootInterval']\n",
    "    nootTijd = gemaakteNoten['nootTijd']\n",
    "    preToonHoogte /= temperature\n",
    "    toonHoogte = tf.random.categorical(preToonHoogte, num_samples=1)\n",
    "    toonHoogte = tf.squeeze(toonHoogte, axis=-1)\n",
    "    nootTijd = tf.squeeze(nootTijd, axis=-1)\n",
    "    nootInterval = tf.squeeze(nootInterval, axis=-1)\n",
    "    nootInterval = tf.maximum(0, nootInterval)\n",
    "    nootTijd = tf.maximum(0, nootTijd)\n",
    "\n",
    "    return int(toonHoogte), float(nootInterval), float(nootTijd)\n"
   ]
  },
  {
   "cell_type": "code",
   "execution_count": 214,
   "metadata": {},
   "outputs": [],
   "source": [
    "temperature = 2.0\n",
    "nNieuweNoten = 120\n",
    "testNoten = midiNaarNoten(bestanden[1])\n",
    "gecorrigeerdeTestNoten = np.delete(testNoten, [1, 2], 1)\n",
    "\n",
    "nieuweInput = normalizeerToonHoogte(gecorrigeerdeTestNoten[:batchInputGrootte])\n",
    "\n",
    "gemaakteNoten = []\n",
    "beginVorigeNoot = 0\n",
    "\n",
    "# \n",
    "for i in range(nNieuweNoten):\n",
    "  toonHoogte, nootInterval, nootTijd = maakNieuweNoot(nieuweInput, model, temperature)\n",
    "  beginTijd = beginVorigeNoot + nootInterval\n",
    "  eindTijd = beginVorigeNoot + nootTijd\n",
    "  gemaakteNoot = (toonHoogte, nootInterval, nootTijd)\n",
    "  gemaakteNoten.append((*gemaakteNoot, beginTijd, eindTijd))\n",
    "  nieuweInput = np.delete(nieuweInput, 0, axis=0)\n",
    "  nieuweInput = np.append(nieuweInput, np.expand_dims(gemaakteNoot, 0), axis=0)\n",
    "  beginVorigeNoot = beginTijd\n",
    "\n",
    "nieuweNoten = np.array(gemaakteNoten)"
   ]
  },
  {
   "cell_type": "code",
   "execution_count": 219,
   "metadata": {},
   "outputs": [],
   "source": [
    "# Exporteer het nieuwe muziekstuk naar een MIDI file in de directory van dit programma.\n",
    "exportBestand = 'test.midi'\n",
    "exportMidi = notenNaarMidi(\n",
    "    nieuweNoten, exportBestand)"
   ]
  }
 ],
 "metadata": {
  "interpreter": {
   "hash": "26a30f0ddadadff36fd977d59d6c3e77bff73a961c547e1d52edcd1b8ca5dde7"
  },
  "kernelspec": {
   "display_name": "Python 3.9.2 64-bit",
   "language": "python",
   "name": "python3"
  },
  "language_info": {
   "codemirror_mode": {
    "name": "ipython",
    "version": 3
   },
   "file_extension": ".py",
   "mimetype": "text/x-python",
   "name": "python",
   "nbconvert_exporter": "python",
   "pygments_lexer": "ipython3",
   "version": "3.8.10"
  },
  "orig_nbformat": 4
 },
 "nbformat": 4,
 "nbformat_minor": 2
}
